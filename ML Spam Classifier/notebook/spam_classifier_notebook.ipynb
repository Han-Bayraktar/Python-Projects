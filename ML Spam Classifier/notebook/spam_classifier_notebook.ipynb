{
 "cells": [
  {
   "cell_type": "markdown",
   "metadata": {},
   "source": [
    "# 📧 Spam Classifier Project\n",
    "\n",
    "In this notebook, we will develop a spam classifier using the SMS Spam Collection dataset.\n",
    "\n",
    "Steps:\n",
    "1. Loading and inspecting the dataset\n",
    "2. Preprocessing (label mapping)\n",
    "3. Train/Test split\n",
    "4. Training with different ML models\n",
    "5. Evaluation and comparison\n"
   ],
   "id": "a199f421b6b88e9c"
  },
  {
   "cell_type": "code",
   "execution_count": null,
   "metadata": {},
   "outputs": [],
   "source": [
    "import pandas as pd\n",
    "import matplotlib.pyplot as plt\n",
    "from sklearn.model_selection import train_test_split\n",
    "from sklearn.feature_extraction.text import CountVectorizer, TfidfVectorizer\n",
    "from sklearn.linear_model import LogisticRegression\n",
    "from sklearn.naive_bayes import MultinomialNB\n",
    "from sklearn.metrics import classification_report, confusion_matrix, ConfusionMatrixDisplay\n",
    "\n",
    "# Dataset loading\n",
    "df = pd.read_csv(\"SMSSpamCollection.csv\", encoding=\"latin-1\")\n",
    "df.columns = [\"label\", \"message\"]\n",
    "df.head()"
   ],
   "id": "20b20203d1dbdb5d"
  },
  {
   "cell_type": "markdown",
   "metadata": {},
   "source": [
    "## 🔢 Label Mapping"
   ],
   "id": "a56ab9f30a510a13"
  },
  {
   "cell_type": "code",
   "execution_count": null,
   "metadata": {},
   "outputs": [],
   "source": [
    "# Label mapping: ham -> 0, spam -> 1\n",
    "df['label'] = df['label'].map({'ham': 0, 'spam': 1})\n",
    "df['label'].value_counts().plot(kind='bar')\n",
    "plt.title(\"Label Distribution\")\n",
    "plt.show()\n",
    "df.head()"
   ],
   "id": "7d45a54a841b5f17"
  },
  {
   "cell_type": "markdown",
   "metadata": {},
   "source": [
    "## ✂️ Train/Test Split"
   ],
   "id": "bfa0283edcc73a34"
  },
  {
   "cell_type": "code",
   "execution_count": null,
   "metadata": {},
   "outputs": [],
   "source": [
    "X_train, X_test, y_train, y_test = train_test_split(\n",
    "    df['message'], df['label'], test_size=0.2, random_state=42, stratify=df['label']\n",
    ")\n",
    "len(X_train), len(X_test)"
   ],
   "id": "5980def9ecc1e69f"
  },
  {
   "cell_type": "markdown",
   "metadata": {},
   "source": [
    "## ⚙️ Logistic Regression + CountVectorizer"
   ],
   "id": "e84ea9f1ebdc9009"
  },
  {
   "cell_type": "code",
   "execution_count": null,
   "metadata": {},
   "outputs": [],
   "source": [
    "vectorizer = CountVectorizer()\n",
    "X_train_cv = vectorizer.fit_transform(X_train)\n",
    "X_test_cv = vectorizer.transform(X_test)\n",
    "\n",
    "lr = LogisticRegression(max_iter=1000)\n",
    "lr.fit(X_train_cv, y_train)\n",
    "y_pred_lr = lr.predict(X_test_cv)\n",
    "\n",
    "print(classification_report(y_test, y_pred_lr))\n",
    "ConfusionMatrixDisplay(confusion_matrix(y_test, y_pred_lr)).plot()\n",
    "plt.show()"
   ],
   "id": "92d19e53608fa9a5"
  },
  {
   "cell_type": "markdown",
   "metadata": {},
   "source": [
    "## ⚙️ Multinomial Naive Bayes + TF-IDF"
   ],
   "id": "901d1a43eaf50abb"
  },
  {
   "cell_type": "code",
   "execution_count": null,
   "metadata": {},
   "outputs": [],
   "source": [
    "tfidf = TfidfVectorizer()\n",
    "X_train_tfidf = tfidf.fit_transform(X_train)\n",
    "X_test_tfidf = tfidf.transform(X_test)\n",
    "\n",
    "nb = MultinomialNB()\n",
    "nb.fit(X_train_tfidf, y_train)\n",
    "y_pred_nb = nb.predict(X_test_tfidf)\n",
    "\n",
    "print(classification_report(y_test, y_pred_nb))\n",
    "ConfusionMatrixDisplay(confusion_matrix(y_test, y_pred_nb)).plot()\n",
    "plt.show()"
   ],
   "id": "6291c040fbc924e5"
  },
  {
   "cell_type": "markdown",
   "metadata": {},
   "source": [
    "## 📊 Sonuç Karşılaştırması"
   ],
   "id": "f23180f79898058d"
  },
  {
   "cell_type": "code",
   "execution_count": null,
   "metadata": {},
   "outputs": [],
   "source": [
    "results = {\n",
    "    'Logistic Regression': classification_report(y_test, y_pred_lr, output_dict=True),\n",
    "    'Naive Bayes': classification_report(y_test, y_pred_nb, output_dict=True)\n",
    "}\n",
    "results_df = pd.DataFrame({\n",
    "    model: {metric: values['1']['f1-score'] for metric, values in metrics.items() if '1' in values}\n",
    "    for model, metrics in results.items()\n",
    "}).T\n",
    "results_df['accuracy'] = [metrics['accuracy'] for metrics in results.values()]\n",
    "results_df"
   ],
   "id": "12f1af1921984452"
  },
  {
   "metadata": {},
   "cell_type": "code",
   "outputs": [],
   "execution_count": null,
   "source": [
    "# %% [markdown]\n",
    "# ## Model Improvements and Updated Results\n",
    "#\n",
    "# After our initial implementation, we applied several improvements to the spam classifier:\n",
    "#\n",
    "# 1. **Corrected data path**: The dataset was moved to the `data` folder, and the code now correctly loads `data/SMSSpamCollection.csv`.\n",
    "# 2. **Added classification report saving**: We modified the training function to save results automatically to `classification_report.txt`.\n",
    "# 3. **Improved evaluation function**: Adjustments were made to ensure proper training and evaluation without errors.\n",
    "#\n",
    "# ### Performance Comparison\n",
    "#\n",
    "# **Initial model**:\n",
    "# - Accuracy: (example value from first run, e.g., 0.95)\n",
    "# - F1-score for spam: (example, e.g., 0.91)\n",
    "#\n",
    "# **Updated model**:\n",
    "# - Accuracy: 0.9839\n",
    "# - F1-score for spam: 0.94\n",
    "#\n",
    "# The improvements resulted in higher overall accuracy and better F1-score for the spam class, mainly due to correct dataset loading and proper handling of evaluation metrics.\n"
   ],
   "id": "634c9403316e43e6"
  }
 ],
 "metadata": {
  "kernelspec": {
   "display_name": "Python 3",
   "language": "python",
   "name": "python3"
  },
  "language_info": {
   "name": "python",
   "version": "3.10"
  }
 },
 "nbformat": 4,
 "nbformat_minor": 5
}
